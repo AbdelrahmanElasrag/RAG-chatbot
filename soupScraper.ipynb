{
 "cells": [
  {
   "cell_type": "code",
   "execution_count": 4,
   "id": "d82d415b",
   "metadata": {},
   "outputs": [],
   "source": [
    "from selenium import webdriver\n",
    "from selenium.webdriver.chrome.options import Options\n",
    "from bs4 import BeautifulSoup\n",
    "import time"
   ]
  },
  {
   "cell_type": "code",
   "execution_count": 6,
   "id": "5736fc79",
   "metadata": {},
   "outputs": [],
   "source": [
    "def scrape_dynamic_text(url):\n",
    "    options = Options()\n",
    "    options.add_argument(\"--headless\")  # Run in headless mode\n",
    "    driver = webdriver.Chrome(options=options)\n",
    "\n",
    "    driver.get(url)\n",
    "    time.sleep(5)  # Give time for page to load JS content\n",
    "\n",
    "    soup = BeautifulSoup(driver.page_source, 'html.parser')\n",
    "    driver.quit()\n",
    "\n",
    "    paragraphs = soup.find_all('p')\n",
    "    text = \"\"\n",
    "    for p in paragraphs:\n",
    "        cleaned = p.get_text(strip=True)\n",
    "        if len(cleaned) > 30:\n",
    "            text += cleaned + \"\\n\"\n",
    "\n",
    "    return text"
   ]
  },
  {
   "cell_type": "code",
   "execution_count": 20,
   "id": "b5ac85f0",
   "metadata": {},
   "outputs": [
    {
     "name": "stdout",
     "output_type": "stream",
     "text": [
      "Done. Data saved to uae_health_data.txt\n"
     ]
    }
   ],
   "source": [
    "# Scrape\n",
    "url = \"https://thegraceandmoxielife.com/21-health-and-fitness-questions-you-probably-want-answers-to/\"\n",
    "content = scrape_dynamic_text(url)\n",
    "\n",
    "# Save to file\n",
    "with open(\"FAQs.txt\", \"w\", encoding=\"utf-8\") as f:\n",
    "    f.write(content)\n",
    "\n",
    "print(\"Done. Data saved to uae_health_data.txt\")"
   ]
  },
  {
   "cell_type": "markdown",
   "id": "741716d4",
   "metadata": {},
   "source": [
    "Cleaning and Preprocessing"
   ]
  },
  {
   "cell_type": "code",
   "execution_count": 27,
   "id": "b3abeee8",
   "metadata": {},
   "outputs": [
    {
     "name": "stdout",
     "output_type": "stream",
     "text": [
      "✅ Preprocessed file saved to: preprocessed_output2.txt\n"
     ]
    }
   ],
   "source": [
    "import re\n",
    "\n",
    "def smart_preprocess(text):\n",
    "    lines = text.splitlines()\n",
    "    blocks = []\n",
    "    buffer = []\n",
    "    current_title = None\n",
    "    is_question = False\n",
    "\n",
    "    for line in lines:\n",
    "        line = line.strip()\n",
    "        if not line:\n",
    "            continue  # skip empty lines\n",
    "\n",
    "        match = re.match(r\"^(\\d{1,2}\\.|-)\\s*(.*)\", line)\n",
    "        if match:\n",
    "            # Save previous block before starting a new one\n",
    "            if current_title:\n",
    "                blocks.append({\n",
    "                    \"type\": \"qna\" if is_question else \"info\",\n",
    "                    \"title\": current_title,\n",
    "                    \"content\": \" \".join(buffer).strip()\n",
    "                })\n",
    "                buffer = []\n",
    "\n",
    "            current_title = match.group(2).strip()\n",
    "            is_question = \"?\" in current_title\n",
    "        else:\n",
    "            buffer.append(line)\n",
    "\n",
    "    # Save last block\n",
    "    if current_title:\n",
    "        blocks.append({\n",
    "            \"type\": \"qna\" if is_question else \"info\",\n",
    "            \"title\": current_title,\n",
    "            \"content\": \" \".join(buffer).strip()\n",
    "        })\n",
    "\n",
    "    return blocks\n",
    "\n",
    "# === STEP 1: Load your raw file ===\n",
    "input_path = \"FAQs2.txt\"   # Change this to your file name\n",
    "output_path = \"preprocessed_output2.txt\"\n",
    "\n",
    "with open(input_path, \"r\", encoding=\"utf-8\") as f:\n",
    "    raw_text = f.read()\n",
    "\n",
    "# === STEP 2: Preprocess ===\n",
    "processed_blocks = smart_preprocess(raw_text)\n",
    "\n",
    "# === STEP 3: Save the clean output ===\n",
    "with open(output_path, \"w\", encoding=\"utf-8\") as f:\n",
    "    for block in processed_blocks:\n",
    "        f.write(f\"[Type] {block['type'].upper()}\\n\")\n",
    "        f.write(f\"[Title] {block['title']}\\n\")\n",
    "        f.write(f\"[Content] {block['content']}\\n\")\n",
    "        f.write(\"-\" * 50 + \"\\n\")\n",
    "\n",
    "print(\"✅ Preprocessed file saved to:\", output_path)\n"
   ]
  }
 ],
 "metadata": {
  "kernelspec": {
   "display_name": "Python 3",
   "language": "python",
   "name": "python3"
  },
  "language_info": {
   "codemirror_mode": {
    "name": "ipython",
    "version": 3
   },
   "file_extension": ".py",
   "mimetype": "text/x-python",
   "name": "python",
   "nbconvert_exporter": "python",
   "pygments_lexer": "ipython3",
   "version": "3.12.10"
  }
 },
 "nbformat": 4,
 "nbformat_minor": 5
}
