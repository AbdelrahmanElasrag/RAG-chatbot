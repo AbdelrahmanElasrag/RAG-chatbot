{
 "cells": [
  {
   "cell_type": "code",
   "execution_count": 1,
   "id": "ff3c2308",
   "metadata": {},
   "outputs": [],
   "source": [
    "import re\n",
    "import json"
   ]
  },
  {
   "cell_type": "code",
   "execution_count": 2,
   "id": "cd892e19",
   "metadata": {},
   "outputs": [],
   "source": [
    "\n",
    "def load_raw_file(filepath):\n",
    "    with open(filepath, \"r\", encoding=\"utf-8\") as f:\n",
    "        return f.read()"
   ]
  },
  {
   "cell_type": "code",
   "execution_count": 3,
   "id": "3245de95",
   "metadata": {},
   "outputs": [],
   "source": [
    "def parse_blocks(raw_text):\n",
    "    # Split using the dashed line as a separator\n",
    "    raw_blocks = raw_text.strip().split(\"-\" * 50)\n",
    "    blocks = []\n",
    "\n",
    "    for block in raw_blocks:\n",
    "        type_match = re.search(r\"\\[Type\\]\\s*(\\w+)\", block)\n",
    "        title_match = re.search(r\"\\[Title\\]\\s*(.+?)\\n\", block)\n",
    "        content_match = re.search(r\"\\[Content\\]\\s*(.+)\", block, re.DOTALL)\n",
    "\n",
    "        if type_match and title_match and content_match:\n",
    "            blocks.append({\n",
    "                \"type\": type_match.group(1).strip(),\n",
    "                \"title\": title_match.group(1).strip(),\n",
    "                \"content\": content_match.group(1).strip()\n",
    "            })\n",
    "\n",
    "    return blocks"
   ]
  },
  {
   "cell_type": "code",
   "execution_count": 4,
   "id": "00b3a0df",
   "metadata": {},
   "outputs": [],
   "source": [
    "def clean_text(text):\n",
    "    # Remove HTML tags if any\n",
    "    text = re.sub(r\"<[^>]+>\", \"\", text)\n",
    "    # Remove excess punctuation (except periods, as they help in sentence boundaries)\n",
    "    text = re.sub(r\"[^\\w\\s.,?!]\", \"\", text)\n",
    "    # Collapse multiple spaces\n",
    "    return re.sub(r\"\\s+\", \" \", text).strip()"
   ]
  },
  {
   "cell_type": "code",
   "execution_count": 5,
   "id": "3946ba89",
   "metadata": {},
   "outputs": [],
   "source": [
    "def save_as_jsonl(data, output_path):\n",
    "    with open(output_path, \"w\", encoding=\"utf-8\") as f:\n",
    "        for item in data:\n",
    "            json.dump(item, f, ensure_ascii=False)\n",
    "            f.write(\"\\n\")"
   ]
  },
  {
   "cell_type": "code",
   "execution_count": 7,
   "id": "ae6c6bb8",
   "metadata": {},
   "outputs": [
    {
     "name": "stdout",
     "output_type": "stream",
     "text": [
      "✅ Done. Output saved to: cleaned_health_data2.jsonl\n"
     ]
    }
   ],
   "source": [
    "input_path = \"preprocessed_output2.txt\"          # Your input file\n",
    "output_path = \"cleaned_health_data2.jsonl\"\n",
    "\n",
    "raw_text = load_raw_file(input_path)\n",
    "blocks = parse_blocks(raw_text)\n",
    "\n",
    "cleaned_chunks = []\n",
    "for block in blocks:\n",
    "    cleaned_chunks.append({\n",
    "        \"type\": block[\"type\"],\n",
    "        \"title\": clean_text(block[\"title\"]),\n",
    "        \"content\": clean_text(block[\"content\"])\n",
    "    })\n",
    "\n",
    "save_as_jsonl(cleaned_chunks, output_path)\n",
    "print(f\"✅ Done. Output saved to: {output_path}\")"
   ]
  }
 ],
 "metadata": {
  "kernelspec": {
   "display_name": "Python 3",
   "language": "python",
   "name": "python3"
  },
  "language_info": {
   "codemirror_mode": {
    "name": "ipython",
    "version": 3
   },
   "file_extension": ".py",
   "mimetype": "text/x-python",
   "name": "python",
   "nbconvert_exporter": "python",
   "pygments_lexer": "ipython3",
   "version": "3.12.10"
  }
 },
 "nbformat": 4,
 "nbformat_minor": 5
}
