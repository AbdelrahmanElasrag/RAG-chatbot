{
  "cells": [
    {
      "cell_type": "code",
      "execution_count": 24,
      "metadata": {
        "id": "ApEqCcmNf3Zx"
      },
      "outputs": [],
      "source": [
        "from sentence_transformers import SentenceTransformer\n",
        "\n",
        "model = SentenceTransformer('sentence-transformers/all-MiniLM-L6-v2')\n"
      ]
    },
    {
      "cell_type": "markdown",
      "metadata": {
        "id": "8o8C-KnYf70h"
      },
      "source": [
        "Installations\n"
      ]
    },
    {
      "cell_type": "code",
      "execution_count": null,
      "metadata": {
        "id": "ObO2W7n0-s_W"
      },
      "outputs": [],
      "source": [
        "!pip install gradio\n"
      ]
    },
    {
      "cell_type": "code",
      "execution_count": null,
      "metadata": {
        "id": "0giIMx0J-gTX"
      },
      "outputs": [],
      "source": [
        "!pip install faiss-cpu"
      ]
    },
    {
      "cell_type": "code",
      "execution_count": null,
      "metadata": {
        "id": "zhwf9RL1_Wc2"
      },
      "outputs": [],
      "source": [
        "import json\n",
        "from sentence_transformers import SentenceTransformer\n",
        "import numpy as np\n",
        "import pickle\n",
        "import faiss\n",
        "from transformers import pipeline\n",
        "import gradio as gr\n",
        "from gradio.themes.base import Base"
      ]
    },
    {
      "cell_type": "code",
      "execution_count": 25,
      "metadata": {
        "colab": {
          "base_uri": "https://localhost:8080/",
          "height": 49,
          "referenced_widgets": [
            "5debd588bbe74ae79e3bcb042bec651e",
            "18843452e9fc4d0196935b58419fb0e8",
            "49c25ed4ecc5439693b363946bbda9f4",
            "930972422c204a8fa5c1eed7b1ad18eb",
            "c1d2485ba5c54ad68deb9591cf507edf",
            "7e66f1ba222b4cfe9b5764023e516623",
            "69da6f99ca6940de806612515b0dab9f",
            "8d9b3b42bab84802aa6c0f5f59e5d8c8",
            "fc4dd6675c8a4da29c2286ad5bc1442e",
            "79e522b61e82411f85ce87a0eebfd016",
            "1d0c3c70d903443c9f39ae290c83629f"
          ]
        },
        "id": "51c0e05KhXrw",
        "outputId": "80a265cb-0a7d-487c-eb40-f7f2b1bcad16"
      },
      "outputs": [
        {
          "data": {
            "application/vnd.jupyter.widget-view+json": {
              "model_id": "5debd588bbe74ae79e3bcb042bec651e",
              "version_major": 2,
              "version_minor": 0
            },
            "text/plain": [
              "Batches:   0%|          | 0/1 [00:00<?, ?it/s]"
            ]
          },
          "metadata": {},
          "output_type": "display_data"
        }
      ],
      "source": [
        "# Step 1: Load the content from JSON lines\n",
        "chunks = []\n",
        "with open('cleaned_health_data1.jsonl', 'r', encoding='utf-8') as f:\n",
        "    for line in f:\n",
        "        obj = json.loads(line.strip())\n",
        "        text = obj.get(\"title\", \"\") + \" - \" + obj.get(\"content\", \"\")\n",
        "        chunks.append(text.strip())\n",
        "\n",
        "# Step 2: Load the embedding model\n",
        "model = SentenceTransformer('all-MiniLM-L6-v2')\n",
        "\n",
        "# Step 3: Generate embeddings\n",
        "chunk_embeddings = model.encode(chunks, show_progress_bar=True)\n",
        "\n",
        "# Step 4: Save the embeddings and metadata\n",
        "np.save('chunk_embeddings.npy', chunk_embeddings)\n",
        "\n",
        "with open('chunk_metadata.pkl', 'wb') as f:\n",
        "    pickle.dump(chunks, f)\n"
      ]
    },
    {
      "cell_type": "code",
      "execution_count": 26,
      "metadata": {
        "id": "qbXoPsFkjn7I"
      },
      "outputs": [],
      "source": [
        "# Load saved embeddings\n",
        "chunk_embeddings = np.load('chunk_embeddings.npy')\n",
        "\n",
        "# Rebuild FAISS index\n",
        "dimension = chunk_embeddings.shape[1]\n",
        "index = faiss.IndexFlatL2(dimension)\n",
        "index.add(chunk_embeddings)\n",
        "\n",
        "# Save the FAISS index\n",
        "faiss.write_index(index, \"faiss_index.index\")\n"
      ]
    },
    {
      "cell_type": "code",
      "execution_count": 27,
      "metadata": {
        "id": "wToD8dbPiZdQ"
      },
      "outputs": [],
      "source": [
        "# Load the chunk embeddings and metadata\n",
        "embeddings = np.load('chunk_embeddings.npy')\n",
        "with open('chunk_metadata.pkl', 'rb') as f:\n",
        "    metadata = pickle.load(f)\n",
        "\n",
        "# Normalize vectors (recommended for cosine similarity)\n",
        "faiss.normalize_L2(embeddings)\n",
        "\n",
        "# Create FAISS index (cosine similarity using inner product on normalized vectors)\n",
        "index = faiss.IndexFlatIP(embeddings.shape[1])\n",
        "index.add(embeddings)\n",
        "\n",
        "# Save the index\n",
        "faiss.write_index(index, \"health_faiss_index.index\")\n",
        "\n",
        "# Save metadata alongside the index\n",
        "with open(\"health_index_metadata.pkl\", \"wb\") as f:\n",
        "    pickle.dump(metadata, f)\n"
      ]
    },
    {
      "cell_type": "code",
      "execution_count": 28,
      "metadata": {
        "id": "wZ7iGz4OjsfX"
      },
      "outputs": [],
      "source": [
        "# Load FAISS index\n",
        "index = faiss.read_index(\"faiss_index.index\")\n",
        "\n",
        "# Load chunk metadata\n",
        "with open(\"chunk_metadata.pkl\", \"rb\") as f:\n",
        "    chunks = pickle.load(f)\n",
        "\n",
        "model = SentenceTransformer('all-MiniLM-L6-v2')\n"
      ]
    },
    {
      "cell_type": "code",
      "execution_count": 29,
      "metadata": {
        "colab": {
          "base_uri": "https://localhost:8080/"
        },
        "id": "g-CHHYuyixjs",
        "outputId": "7cfbe857-ca41-4b7e-dde3-b49bb4e85b13"
      },
      "outputs": [
        {
          "name": "stderr",
          "output_type": "stream",
          "text": [
            "Device set to use cpu\n"
          ]
        }
      ],
      "source": [
        "# Load a generative model (e.g., from Hugging Face)\n",
        "qa_pipeline = pipeline(\"text2text-generation\", model=\"google/flan-t5-base\")\n",
        "\n",
        "def answer_question(question, top_k=3):\n",
        "    # Step 1: Embed the question\n",
        "    question_embedding = model.encode([question])\n",
        "\n",
        "    # Step 2: Search in the FAISS index\n",
        "    distances, indices = index.search(np.array(question_embedding).astype(\"float32\"), top_k)\n",
        "\n",
        "    # Step 3: Get the top-k relevant chunks\n",
        "    retrieved_chunks = [chunks[i] for i in indices[0]]\n",
        "    context = \"\\n\".join(retrieved_chunks)\n",
        "\n",
        "    # Step 4: Concatenate context + question\n",
        "    prompt = f\"Context: {context}\\n\\nQuestion: {question}\\nAnswer:\"\n",
        "\n",
        "    # Step 5: Generate answer\n",
        "    answer = qa_pipeline(prompt, max_length=200)[0]['generated_text']\n",
        "    return answer\n"
      ]
    },
    {
      "cell_type": "code",
      "execution_count": 32,
      "metadata": {
        "colab": {
          "base_uri": "https://localhost:8080/"
        },
        "id": "KyjD87wPkajj",
        "outputId": "58adbbda-0491-4b61-d62a-dae1d7e6b79e"
      },
      "outputs": [
        {
          "name": "stdout",
          "output_type": "stream",
          "text": [
            "Q: what's the capital of Egypt?\n",
            "A: Cairo\n"
          ]
        }
      ],
      "source": [
        "question = \"what's the capital of Egypt?\"\n",
        "response = answer_question(question)\n",
        "print(\"Q:\", question)\n",
        "print(\"A:\", response)\n"
      ]
    },
    {
      "cell_type": "code",
      "execution_count": 40,
      "metadata": {
        "colab": {
          "base_uri": "https://localhost:8080/",
          "height": 663
        },
        "id": "DGqA271P2CZB",
        "outputId": "a84fad17-5bd9-4bf9-b182-079c6674e5a6"
      },
      "outputs": [
        {
          "name": "stderr",
          "output_type": "stream",
          "text": [
            "Device set to use cpu\n"
          ]
        },
        {
          "name": "stdout",
          "output_type": "stream",
          "text": [
            "It looks like you are running Gradio on a hosted a Jupyter notebook. For the Gradio app to work, sharing must be enabled. Automatically setting `share=True` (you can turn this off by setting `share=False` in `launch()` explicitly).\n",
            "\n",
            "Colab notebook detected. To show errors in colab notebook, set debug=True in launch()\n",
            "* Running on public URL: https://9a3bdba982307b3725.gradio.live\n",
            "\n",
            "This share link expires in 1 week. For free permanent hosting and GPU upgrades, run `gradio deploy` from the terminal in the working directory to deploy to Hugging Face Spaces (https://huggingface.co/spaces)\n"
          ]
        },
        {
          "data": {
            "text/html": [
              "<div><iframe src=\"https://9a3bdba982307b3725.gradio.live\" width=\"100%\" height=\"500\" allow=\"autoplay; camera; microphone; clipboard-read; clipboard-write;\" frameborder=\"0\" allowfullscreen></iframe></div>"
            ],
            "text/plain": [
              "<IPython.core.display.HTML object>"
            ]
          },
          "metadata": {},
          "output_type": "display_data"
        },
        {
          "data": {
            "text/plain": []
          },
          "execution_count": 40,
          "metadata": {},
          "output_type": "execute_result"
        }
      ],
      "source": [
        "import gradio as gr\n",
        "import faiss\n",
        "import numpy as np\n",
        "import pickle\n",
        "from sentence_transformers import SentenceTransformer\n",
        "from transformers import pipeline\n",
        "from gradio.themes.base import Base\n",
        "\n",
        "# Load models and data\n",
        "model = SentenceTransformer(\"all-MiniLM-L6-v2\")\n",
        "qa_pipeline = pipeline(\"text2text-generation\", model=\"google/flan-t5-base\")\n",
        "\n",
        "# Load FAISS index and metadata\n",
        "index = faiss.read_index(\"faiss_index.index\")\n",
        "with open(\"chunk_metadata.pkl\", \"rb\") as f:\n",
        "    chunks = pickle.load(f)\n",
        "\n",
        "# Define answer generation function\n",
        "def answer_question(question, top_k=3):\n",
        "    question_embedding = model.encode([question])\n",
        "    distances, indices = index.search(np.array(question_embedding).astype(\"float32\"), top_k)\n",
        "    retrieved_chunks = [chunks[i] for i in indices[0]]\n",
        "    context = \"\\n\".join(retrieved_chunks)\n",
        "\n",
        "    prompt = f\"Context: {context}\\n\\nQuestion: {question}\\nAnswer:\"\n",
        "    result = qa_pipeline(prompt, max_length=200)[0][\"generated_text\"]\n",
        "    return result\n",
        "\n",
        "custom_theme = Base(primary_hue=\"emerald\", neutral_hue=\"slate\")\n",
        "\n",
        "# Gradio Interface\n",
        "iface = gr.Interface(\n",
        "    fn=answer_question,\n",
        "    inputs=gr.Textbox(lines=2, placeholder=\"Ask about UAE health insurance...\"),\n",
        "    outputs=\"text\",\n",
        "    title=\"UAE Health Insurance Assistant\",\n",
        "    description=\"Ask any question related to UAE health insurance policies. This assistant retrieves relevant context and generates an answer using a language model.\",\n",
        "    theme=custom_theme\n",
        ")\n",
        "\n",
        "iface.launch()\n"
      ]
    },
    {
      "cell_type": "code",
      "execution_count": null,
      "metadata": {
        "id": "aEWAU76u5ieP"
      },
      "outputs": [],
      "source": []
    }
  ],
  "metadata": {
    "colab": {
      "provenance": []
    },
    "kernelspec": {
      "display_name": "Python 3",
      "name": "python3"
    },
    "language_info": {
      "name": "python"
    },
    "widgets": {
      "application/vnd.jupyter.widget-state+json": {
        "18843452e9fc4d0196935b58419fb0e8": {
          "model_module": "@jupyter-widgets/controls",
          "model_module_version": "1.5.0",
          "model_name": "HTMLModel",
          "state": {
            "_dom_classes": [],
            "_model_module": "@jupyter-widgets/controls",
            "_model_module_version": "1.5.0",
            "_model_name": "HTMLModel",
            "_view_count": null,
            "_view_module": "@jupyter-widgets/controls",
            "_view_module_version": "1.5.0",
            "_view_name": "HTMLView",
            "description": "",
            "description_tooltip": null,
            "layout": "IPY_MODEL_7e66f1ba222b4cfe9b5764023e516623",
            "placeholder": "​",
            "style": "IPY_MODEL_69da6f99ca6940de806612515b0dab9f",
            "value": "Batches: 100%"
          }
        },
        "1d0c3c70d903443c9f39ae290c83629f": {
          "model_module": "@jupyter-widgets/controls",
          "model_module_version": "1.5.0",
          "model_name": "DescriptionStyleModel",
          "state": {
            "_model_module": "@jupyter-widgets/controls",
            "_model_module_version": "1.5.0",
            "_model_name": "DescriptionStyleModel",
            "_view_count": null,
            "_view_module": "@jupyter-widgets/base",
            "_view_module_version": "1.2.0",
            "_view_name": "StyleView",
            "description_width": ""
          }
        },
        "49c25ed4ecc5439693b363946bbda9f4": {
          "model_module": "@jupyter-widgets/controls",
          "model_module_version": "1.5.0",
          "model_name": "FloatProgressModel",
          "state": {
            "_dom_classes": [],
            "_model_module": "@jupyter-widgets/controls",
            "_model_module_version": "1.5.0",
            "_model_name": "FloatProgressModel",
            "_view_count": null,
            "_view_module": "@jupyter-widgets/controls",
            "_view_module_version": "1.5.0",
            "_view_name": "ProgressView",
            "bar_style": "success",
            "description": "",
            "description_tooltip": null,
            "layout": "IPY_MODEL_8d9b3b42bab84802aa6c0f5f59e5d8c8",
            "max": 1,
            "min": 0,
            "orientation": "horizontal",
            "style": "IPY_MODEL_fc4dd6675c8a4da29c2286ad5bc1442e",
            "value": 1
          }
        },
        "5debd588bbe74ae79e3bcb042bec651e": {
          "model_module": "@jupyter-widgets/controls",
          "model_module_version": "1.5.0",
          "model_name": "HBoxModel",
          "state": {
            "_dom_classes": [],
            "_model_module": "@jupyter-widgets/controls",
            "_model_module_version": "1.5.0",
            "_model_name": "HBoxModel",
            "_view_count": null,
            "_view_module": "@jupyter-widgets/controls",
            "_view_module_version": "1.5.0",
            "_view_name": "HBoxView",
            "box_style": "",
            "children": [
              "IPY_MODEL_18843452e9fc4d0196935b58419fb0e8",
              "IPY_MODEL_49c25ed4ecc5439693b363946bbda9f4",
              "IPY_MODEL_930972422c204a8fa5c1eed7b1ad18eb"
            ],
            "layout": "IPY_MODEL_c1d2485ba5c54ad68deb9591cf507edf"
          }
        },
        "69da6f99ca6940de806612515b0dab9f": {
          "model_module": "@jupyter-widgets/controls",
          "model_module_version": "1.5.0",
          "model_name": "DescriptionStyleModel",
          "state": {
            "_model_module": "@jupyter-widgets/controls",
            "_model_module_version": "1.5.0",
            "_model_name": "DescriptionStyleModel",
            "_view_count": null,
            "_view_module": "@jupyter-widgets/base",
            "_view_module_version": "1.2.0",
            "_view_name": "StyleView",
            "description_width": ""
          }
        },
        "79e522b61e82411f85ce87a0eebfd016": {
          "model_module": "@jupyter-widgets/base",
          "model_module_version": "1.2.0",
          "model_name": "LayoutModel",
          "state": {
            "_model_module": "@jupyter-widgets/base",
            "_model_module_version": "1.2.0",
            "_model_name": "LayoutModel",
            "_view_count": null,
            "_view_module": "@jupyter-widgets/base",
            "_view_module_version": "1.2.0",
            "_view_name": "LayoutView",
            "align_content": null,
            "align_items": null,
            "align_self": null,
            "border": null,
            "bottom": null,
            "display": null,
            "flex": null,
            "flex_flow": null,
            "grid_area": null,
            "grid_auto_columns": null,
            "grid_auto_flow": null,
            "grid_auto_rows": null,
            "grid_column": null,
            "grid_gap": null,
            "grid_row": null,
            "grid_template_areas": null,
            "grid_template_columns": null,
            "grid_template_rows": null,
            "height": null,
            "justify_content": null,
            "justify_items": null,
            "left": null,
            "margin": null,
            "max_height": null,
            "max_width": null,
            "min_height": null,
            "min_width": null,
            "object_fit": null,
            "object_position": null,
            "order": null,
            "overflow": null,
            "overflow_x": null,
            "overflow_y": null,
            "padding": null,
            "right": null,
            "top": null,
            "visibility": null,
            "width": null
          }
        },
        "7e66f1ba222b4cfe9b5764023e516623": {
          "model_module": "@jupyter-widgets/base",
          "model_module_version": "1.2.0",
          "model_name": "LayoutModel",
          "state": {
            "_model_module": "@jupyter-widgets/base",
            "_model_module_version": "1.2.0",
            "_model_name": "LayoutModel",
            "_view_count": null,
            "_view_module": "@jupyter-widgets/base",
            "_view_module_version": "1.2.0",
            "_view_name": "LayoutView",
            "align_content": null,
            "align_items": null,
            "align_self": null,
            "border": null,
            "bottom": null,
            "display": null,
            "flex": null,
            "flex_flow": null,
            "grid_area": null,
            "grid_auto_columns": null,
            "grid_auto_flow": null,
            "grid_auto_rows": null,
            "grid_column": null,
            "grid_gap": null,
            "grid_row": null,
            "grid_template_areas": null,
            "grid_template_columns": null,
            "grid_template_rows": null,
            "height": null,
            "justify_content": null,
            "justify_items": null,
            "left": null,
            "margin": null,
            "max_height": null,
            "max_width": null,
            "min_height": null,
            "min_width": null,
            "object_fit": null,
            "object_position": null,
            "order": null,
            "overflow": null,
            "overflow_x": null,
            "overflow_y": null,
            "padding": null,
            "right": null,
            "top": null,
            "visibility": null,
            "width": null
          }
        },
        "8d9b3b42bab84802aa6c0f5f59e5d8c8": {
          "model_module": "@jupyter-widgets/base",
          "model_module_version": "1.2.0",
          "model_name": "LayoutModel",
          "state": {
            "_model_module": "@jupyter-widgets/base",
            "_model_module_version": "1.2.0",
            "_model_name": "LayoutModel",
            "_view_count": null,
            "_view_module": "@jupyter-widgets/base",
            "_view_module_version": "1.2.0",
            "_view_name": "LayoutView",
            "align_content": null,
            "align_items": null,
            "align_self": null,
            "border": null,
            "bottom": null,
            "display": null,
            "flex": null,
            "flex_flow": null,
            "grid_area": null,
            "grid_auto_columns": null,
            "grid_auto_flow": null,
            "grid_auto_rows": null,
            "grid_column": null,
            "grid_gap": null,
            "grid_row": null,
            "grid_template_areas": null,
            "grid_template_columns": null,
            "grid_template_rows": null,
            "height": null,
            "justify_content": null,
            "justify_items": null,
            "left": null,
            "margin": null,
            "max_height": null,
            "max_width": null,
            "min_height": null,
            "min_width": null,
            "object_fit": null,
            "object_position": null,
            "order": null,
            "overflow": null,
            "overflow_x": null,
            "overflow_y": null,
            "padding": null,
            "right": null,
            "top": null,
            "visibility": null,
            "width": null
          }
        },
        "930972422c204a8fa5c1eed7b1ad18eb": {
          "model_module": "@jupyter-widgets/controls",
          "model_module_version": "1.5.0",
          "model_name": "HTMLModel",
          "state": {
            "_dom_classes": [],
            "_model_module": "@jupyter-widgets/controls",
            "_model_module_version": "1.5.0",
            "_model_name": "HTMLModel",
            "_view_count": null,
            "_view_module": "@jupyter-widgets/controls",
            "_view_module_version": "1.5.0",
            "_view_name": "HTMLView",
            "description": "",
            "description_tooltip": null,
            "layout": "IPY_MODEL_79e522b61e82411f85ce87a0eebfd016",
            "placeholder": "​",
            "style": "IPY_MODEL_1d0c3c70d903443c9f39ae290c83629f",
            "value": " 1/1 [00:00&lt;00:00,  1.26it/s]"
          }
        },
        "c1d2485ba5c54ad68deb9591cf507edf": {
          "model_module": "@jupyter-widgets/base",
          "model_module_version": "1.2.0",
          "model_name": "LayoutModel",
          "state": {
            "_model_module": "@jupyter-widgets/base",
            "_model_module_version": "1.2.0",
            "_model_name": "LayoutModel",
            "_view_count": null,
            "_view_module": "@jupyter-widgets/base",
            "_view_module_version": "1.2.0",
            "_view_name": "LayoutView",
            "align_content": null,
            "align_items": null,
            "align_self": null,
            "border": null,
            "bottom": null,
            "display": null,
            "flex": null,
            "flex_flow": null,
            "grid_area": null,
            "grid_auto_columns": null,
            "grid_auto_flow": null,
            "grid_auto_rows": null,
            "grid_column": null,
            "grid_gap": null,
            "grid_row": null,
            "grid_template_areas": null,
            "grid_template_columns": null,
            "grid_template_rows": null,
            "height": null,
            "justify_content": null,
            "justify_items": null,
            "left": null,
            "margin": null,
            "max_height": null,
            "max_width": null,
            "min_height": null,
            "min_width": null,
            "object_fit": null,
            "object_position": null,
            "order": null,
            "overflow": null,
            "overflow_x": null,
            "overflow_y": null,
            "padding": null,
            "right": null,
            "top": null,
            "visibility": null,
            "width": null
          }
        },
        "fc4dd6675c8a4da29c2286ad5bc1442e": {
          "model_module": "@jupyter-widgets/controls",
          "model_module_version": "1.5.0",
          "model_name": "ProgressStyleModel",
          "state": {
            "_model_module": "@jupyter-widgets/controls",
            "_model_module_version": "1.5.0",
            "_model_name": "ProgressStyleModel",
            "_view_count": null,
            "_view_module": "@jupyter-widgets/base",
            "_view_module_version": "1.2.0",
            "_view_name": "StyleView",
            "bar_color": null,
            "description_width": ""
          }
        }
      }
    }
  },
  "nbformat": 4,
  "nbformat_minor": 0
}
